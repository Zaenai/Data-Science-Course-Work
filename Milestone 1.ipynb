{
 "cells": [
  {
   "cell_type": "code",
   "execution_count": 90,
   "id": "825221bf",
   "metadata": {},
   "outputs": [],
   "source": [
    "# psh270, jxs535, def456, hkp680\n",
    "\n",
    "# Task 2\n",
    "import numpy as np\n",
    "import pandas as pd\n",
    "import re\n",
    "from cleantext.sklearn import CleanTransformer # likely required to ´pip install clean-text´\n",
    "data = pd.read_csv(\"https://raw.githubusercontent.com/several27/FakeNewsCorpus/master/news_sample.csv\")"
   ]
  },
  {
   "cell_type": "code",
   "execution_count": 91,
   "id": "41807c97",
   "metadata": {},
   "outputs": [],
   "source": [
    "initial_cleaner = CleanTransformer(fix_unicode=True,               # fix various unicode errors\n",
    "                                    to_ascii=True,                  # transliterate to closest ASCII representation\n",
    "                                    lower=True,                     # lowercase text\n",
    "                                    no_line_breaks=True,           # fully strip line breaks as opposed to only normalizing them\n",
    "                                    no_urls=True,                  # replace all URLs with a special token\n",
    "                                    no_emails=True,                # replace all email addresses with a special token\n",
    "                                    no_phone_numbers=True,         # replace all phone numbers with a special token\n",
    "                                    no_numbers=False,               # replace all numbers with a special token\n",
    "                                    no_digits=False,                # replace all digits with a special token\n",
    "                                    no_currency_symbols=True,      # replace all currency symbols with a special token\n",
    "                                    no_punct=True,                 # remove punctuations\n",
    "                                    replace_with_punct=\" \",          # instead of removing punctuations you may replace them\n",
    "                                    replace_with_url=\"<url>\",\n",
    "                                    replace_with_email=\"<email>\",\n",
    "                                    replace_with_phone_number=\"<phone>\",\n",
    "                                    replace_with_currency_symbol=\"<cur>\",\n",
    "                                    lang=\"en\"                       # set to 'de' for German special handling\n",
    "                                    )\n",
    "\n",
    "general_cleaner = CleanTransformer(fix_unicode=False,               # fix various unicode errors\n",
    "                                    to_ascii=False,                  # transliterate to closest ASCII representation\n",
    "                                    lower=False,                     # lowercase text\n",
    "                                    no_line_breaks=False,           # fully strip line breaks as opposed to only normalizing them\n",
    "                                    no_urls=False,                  # replace all URLs with a special token\n",
    "                                    no_emails=False,                # replace all email addresses with a special token\n",
    "                                    no_phone_numbers=False,         # replace all phone numbers with a special token\n",
    "                                    no_numbers=True,               # replace all numbers with a special token\n",
    "                                    no_digits=False,                # replace all digits with a special token\n",
    "                                    no_currency_symbols=False,      # replace all currency symbols with a special token\n",
    "                                    no_punct=False,                 # remove punctuations\n",
    "                                    replace_with_number=\"<number>\",\n",
    "                                    lang=\"en\"                       # set to 'de' for German special handling\n",
    "                                    )\n",
    "\n"
   ]
  },
  {
   "cell_type": "code",
   "execution_count": 92,
   "id": "021e28e7",
   "metadata": {},
   "outputs": [],
   "source": [
    "three_numb_date = r'(<number> <number> <number>)' #YYYY/MM/DD or DD/MM/YYYY or MM/DD/YYYY\n",
    "literal_months_date= r'(jan|feb|mar|apr|may|jun|jul|aug|sep|nov|dec)\\S* ((<number> ){1,2}|([0-9]{1,2}(st|nd|rd|th)))' #Eg. jun 2nd 2020, january 23. 2021\n",
    "literal_months_reverse_date = r'((<number> {1,2})|[0-9]{1,2}(st|nd|rd|th)) *(jan|feb|mar|apr|may|jun|jul|aug|sep|nov|dec)\\S*' #Eg. 10th february, 4th july\n",
    "all_dates = (three_numb_date) +'|' + (literal_months_date) +'|'+ (literal_months_reverse_date)\n",
    "multiple_chars = r'(.)\\1{3,}'\n",
    "#symbols = r'([^a-z]| |^\\<|^\\>)' #[65-90] [97-122]"
   ]
  },
  {
   "cell_type": "code",
   "execution_count": 93,
   "id": "cdef0af5",
   "metadata": {},
   "outputs": [],
   "source": [
    "#string_test='In gold, the open interest SURPRISINGLY ROSE BY A CONSIDERABLE 9126 CONTRACTS UP TO582,421 WITH THE GOOD SIZED RISE IN PRICE OF GOLD WITH YESTERDAY’S TRADING ($5.55). IN ANOTHER HUGE DEVELOPMENT, WE RECEIVED THE TOTAL NUMBER OF GOLD EFP’S ISSUED FOR WEDNESDAY AND IT TOTALED A HUMONGOUS SIZED 12,223 CONTRACTS OF WHICH FEBRUARY SAW 11,023 CONTRACTS ISSUED AND APRIL SAW THE ISSUANCE OF 1200 CONTRACTS.'\n",
    "#date_test  = '12/18/10 12/18/2020 12-18-10 12-18-2020 12/18/10 12/18/2020 12.18.10 12.18.2020 noise 12182010 december 18, 2010 janu 10th march 1st 3st january Dekjkj 10th  noise 10/20  noise noise 2020 10th january 2021'\n",
    "\n",
    "def clean_column(data, col_name):\n",
    "    for i, entry in enumerate(data[col_name]):    \n",
    "        #We first convert to lower case and replace punctuation with space such that dates can\n",
    "        #more easily be processed (eg. 10.12.2020 -> 10 12 2020 -> <NUMBER> <NUMBER> <NUMBER> instead of <NUMBER><NUMBER><DIGIT> or something)\n",
    "        cleaned = initial_cleaner.transform([entry])[0]\n",
    "        cleaned = general_cleaner.transform([cleaned])[0]\n",
    "        cleaned = re.sub(all_dates, '<date> ', cleaned)\n",
    "        #cleaned = re.sub(symbols,'',cleaned)\n",
    "        #cleaned = re.sub(multiple_chars, '', cleaned)\n",
    "        data.at[i, col_name] = cleaned\n",
    "\n",
    "def clean_data(data):\n",
    "    #Dropping unneeded columns\n",
    "    cols_to_delete = [\"Unnamed: 0\",\"id\",\"scraped_at\",\"inserted_at\",\"updated_at\"]\n",
    "    for column in data.columns:\n",
    "        if data[column].isnull().values.all():\n",
    "            cols_to_delete.append(column)\n",
    "\n",
    "    data.drop(cols_to_delete, 1, inplace=True)\n",
    "    \n",
    "    clean_column(data, \"content\")\n",
    "    clean_column(data, \"title\")\n",
    "    return data\n"
   ]
  },
  {
   "cell_type": "code",
   "execution_count": 49,
   "id": "7f7ca311",
   "metadata": {},
   "outputs": [
    {
     "name": "stdout",
     "output_type": "stream",
     "text": [
      "Subscribe to Canada Free Press for FREE\n",
      "\n",
      "Neither Rev. Rodriguez nor Pope Francis will be there, but President Trump will be, addressing the crowd by satellite\n",
      "\n",
      "It’s Not Really President Trump Who Needs His Mouth Washed Out With Soap\n",
      "\n",
      "\n",
      "\n",
      "Throwing the spotlight on so-called Men of the Cloth: It’s not President Donald Trump who needs to have his mouth washed out with soap for having allegedly made use of the vulgar ‘s’ word at a White House meeting on immigration. There’s just no getting around it that some words are more painful than cuss words, particularly when they heap praise on abortion advocates. “Members of President Trump’s evangelical advisory council decided to jump ship for the day and publicly sided with Nancy Pelosi on DACA. (RedState, Jan. 18, 2018)\n",
      "\n",
      "“You have always taken the lead. Your commitment to the immigrant community to the ‘Dreamers’ is second to none. So America is in a better place because of your prophetic leadership on this matter,” the Rev.Samuel Rodriguez, who spoke at Trump’s inauguration last year, told Pelosi at a press conference on Thursday.” Prophetic? Really?” Pelosi, of course, is one of the loudest advocates of abortion ever elected, coming second only to former President Barack Obama, champion of partial birth abortion. How sincere was Rev. Rodriguez when he raised the name of President Donald Trump in prayer at his inauguration? Discomfited by the president’s use of an expression he has denied using, Rev. Rodriguez, a member of the “unofficial” evangelical advisory board and the president of the National Hispanic Christian Leadership Conference noted that “every single person is created in the image of God” and spoke of welcoming people equally from Nigeria and Norway, albeit after “a rigorous vetting process.” “Later in the day, he said more: “In addition, and with great due deference, I believe that the comments attributed to our president can best be described as wrong, inappropriate, and hurtful. Why? Because when God looks at these nations, He sees His children.” (Yahoo, Jan. 15, 2018)\n",
      "\n",
      "It should go without saying that our Creator sees among “His children, millions of babies killed in their mother’s wombs. Sadly, the pastor is not the only one who hypocritically regards the president’s alleged use of the ‘s’ word as more preach-worthy than the open advocation of abortion. Isn’t it more than a tad hypocritical, if not downright sanctimonious that the Vatican newspaper, L’Osservatore Romano would try a wash-his-mouth-with-soap stance on the latest alleged expletive of President Donald Trump? We all know by now that President Trump’s alleged use of the ‘s’ word was tattle-taled to the Internet world by Catholic U.S. Senator Dick Durbin, who went straight to the media to report the vulgarity had been “repeatedly” used at a White House meeting on immigration. Tattletale Dicky Durbin\n",
      "\n",
      "Continued below... The newspaper, L’Osservatore Romano—the Vatican’s flagship—gave Trump’s comments about the immigration debate in the United States, front page attention, noting the comments had immediately sparked “controversy and indignation”. Never mind that Trump denies using the term. Mercifully, the newspaper did not print the vulgar word that automatically spiralled the Democrats into a full-on faux rage. No, none of that over here. But it’s not just vulgar expletives that rile people up. Some words indiscriminately used to honor abortion advocates are just as—if not more—offensive to the Faithful. Some some pro-life Catholics must have thought of the ‘s’ word when reading on Twitter that abortion advocate Lilianne Ploumen, former Minister for Foreign Trade and Development Cooperation in the Netherlands, was recently honored by Pope Francis with the title of ‘Commander in the Pontifical Equestrian Order of St. Gregory the Great’. This was one Tweet that turned out to be as troubling as it was true: “The Lepanto Institute was able to confirm from a December 22, 2017 Dutch radio broadcast that Ploumen indeed received the honor. In a brief video clip promoting the broadcast, Ploumen displays the medal while saying that she received it from the Pope. (Lepanto Institute, Jan.12, 2018)\n",
      "\n",
      "“To say that Lilianne Ploumen is “pro-abortion” is an extreme understatement and doesn’t even come close to the scandalous reality of her activism. “In January of last year, after US President Donald Trump reinstated the Mexico City Policy, Ploumen launched a new NGO called She Decides to provide mass amounts of funds to organizations that would no longer receive funds from the US government. The Mexico City Policy automatically denies US funding for international organizations which perform or promote abortion. “Referring to the Mexico City Policy as a “Global Gag Rule,” Ploumen stated that the intention of She Decides was to continue support for existing programs being run by organizations such as the United Nations Population Fund (UNPFA), the International Planned Parenthood Federation and Marie Stopes International. She said, “These are successful and effective programs: direct support, distributing condoms, making sure women are accompanied at the birth, and making sure abortion is safe if they have no other choice.” The LePanto Institute continues their Ploumen profile: “But Ploumen’s anti-Catholic activity isn’t restricted to abortion. In September of 2017, Ploumen participated in the United Nations LGBTI Core Group. As the first speaker at the event, Ploumen noted that “LGBTI rights are human rights.” In her opening remarks, she said, “We cannot be complacent. [Today] in more than 70 countries homosexuality is still criminalized…stigma against LGBT people continue all over the world.” “In 2014, Ploumen ended foreign aid to the country of Uganda for passing a bill banning sodomy and same-sex “marriage.” In February of 2010, Ploumen called on LGBT activists to descend upon and disrupt Mass at St. John the Baptist Cathedral, wearing pink triangles with the words “Jesus excludes no one.” “The reason? She and other pro-LGBT activists were protesting the Church’s moral teaching regarding homosexuality.”\n",
      "\n",
      "Continued below... We already know how Pope Francis profiles President Donald Trump: “In 2016, in response to a question about then-candidate Trump’s views on immigration and his intention to build a wall along the U.S. border with Mexico, Francis said a man with such views was “not Christian”. (Reuters, Jan. 12, 2018) “Trump, who grew up in a Presbyterian family, shot back saying it was “disgraceful” for the pope to question his faith.” Actions speak so much louder than cuss words. Thousands will be taking part in the 2018 March for Life today. Neither Rev. Rodriguez nor Pope Francis will be there, but President Trump will be, addressing the crowd by satellite.\n",
      "\n",
      "Copyright © Canada Free Press\n",
      "\n",
      "RSS Feed for Judi McLeod\n",
      "\n",
      "Judi McLeod is an award-winning journalist with 30 years’ experience in the print media. A former Toronto Sun columnist, she also worked for the Kingston Whig Standard. Her work has appeared on Rush Limbaugh, Newsmax.com, Drudge Report, Foxnews.com.\n",
      "\n",
      "Older articles by Judi McLeod\n",
      "\n",
      "Please adhere to our commenting policy to avoid being banned. As a privately owned website, we reserve the right to remove any comment and ban any user at any time.Comments that contain spam, advertising, vulgarity, threats of violence, racism, anti-Semitism, or personal or abusive attacks on other users may be removed and result in a ban.-- Follow these instructions on registering\n"
     ]
    }
   ],
   "source": [
    "print(data[\"content\"][9])"
   ]
  },
  {
   "cell_type": "markdown",
   "id": "5a3421d7",
   "metadata": {},
   "source": [
    "Since we are working on a subset of the full dataset, there is no need to include the old index/ID.\n",
    "Furthermore, since pandas adds an index column, we do not have a need for the already existing (possibly error prone) local index (Unnamed: 0).\n",
    "\n",
    "Metadata regarding scraping, time of updates etc. do not serve a significant impact on the processing we wish to perform."
   ]
  },
  {
   "cell_type": "code",
   "execution_count": 87,
   "id": "8313171a",
   "metadata": {},
   "outputs": [
    {
     "name": "stderr",
     "output_type": "stream",
     "text": [
      "C:\\Users\\Computer\\AppData\\Local\\Temp\\ipykernel_26636\\574242364.py:22: FutureWarning: In a future version of pandas all arguments of DataFrame.drop except for the argument 'labels' will be keyword-only\n",
      "  data.drop(cols_to_delete, 1, inplace=True)\n",
      "C:\\Users\\Computer\\AppData\\Local\\Programs\\Python\\Python310\\lib\\site-packages\\pandas\\core\\frame.py:4906: SettingWithCopyWarning: \n",
      "A value is trying to be set on a copy of a slice from a DataFrame\n",
      "\n",
      "See the caveats in the documentation: https://pandas.pydata.org/pandas-docs/stable/user_guide/indexing.html#returning-a-view-versus-a-copy\n",
      "  return super().drop(\n"
     ]
    },
    {
     "data": {
      "text/html": [
       "<div>\n",
       "<style scoped>\n",
       "    .dataframe tbody tr th:only-of-type {\n",
       "        vertical-align: middle;\n",
       "    }\n",
       "\n",
       "    .dataframe tbody tr th {\n",
       "        vertical-align: top;\n",
       "    }\n",
       "\n",
       "    .dataframe thead th {\n",
       "        text-align: right;\n",
       "    }\n",
       "</style>\n",
       "<table border=\"1\" class=\"dataframe\">\n",
       "  <thead>\n",
       "    <tr style=\"text-align: right;\">\n",
       "      <th></th>\n",
       "      <th>domain</th>\n",
       "      <th>type</th>\n",
       "      <th>url</th>\n",
       "      <th>content</th>\n",
       "      <th>title</th>\n",
       "      <th>authors</th>\n",
       "      <th>meta_keywords</th>\n",
       "      <th>meta_description</th>\n",
       "    </tr>\n",
       "  </thead>\n",
       "  <tbody>\n",
       "    <tr>\n",
       "      <th>0</th>\n",
       "      <td>awm.com</td>\n",
       "      <td>unreliable</td>\n",
       "      <td>http://awm.com/church-congregation-brings-gift...</td>\n",
       "      <td>sometimes the power of christmas will make you...</td>\n",
       "      <td>church congregation brings gift to waitresses ...</td>\n",
       "      <td>Ruth Harris</td>\n",
       "      <td>['']</td>\n",
       "      <td>NaN</td>\n",
       "    </tr>\n",
       "    <tr>\n",
       "      <th>1</th>\n",
       "      <td>beforeitsnews.com</td>\n",
       "      <td>fake</td>\n",
       "      <td>http://beforeitsnews.com/awakening-start-here/...</td>\n",
       "      <td>awakening of &lt;number&gt; strands of dna reconnect...</td>\n",
       "      <td>awakening of &lt;number&gt; strands of dna reconnect...</td>\n",
       "      <td>Zurich Times</td>\n",
       "      <td>['']</td>\n",
       "      <td>NaN</td>\n",
       "    </tr>\n",
       "    <tr>\n",
       "      <th>2</th>\n",
       "      <td>cnnnext.com</td>\n",
       "      <td>unreliable</td>\n",
       "      <td>http://www.cnnnext.com/video/18526/never-hike-...</td>\n",
       "      <td>never hike alone a friday the 13th fan film us...</td>\n",
       "      <td>never hike alone a friday the 13th fan film fu...</td>\n",
       "      <td>NaN</td>\n",
       "      <td>['']</td>\n",
       "      <td>Never Hike Alone: A Friday the 13th Fan Film  ...</td>\n",
       "    </tr>\n",
       "    <tr>\n",
       "      <th>3</th>\n",
       "      <td>awm.com</td>\n",
       "      <td>unreliable</td>\n",
       "      <td>http://awm.com/elusive-alien-of-the-sea-caught...</td>\n",
       "      <td>when a rare shark was caught scientists were l...</td>\n",
       "      <td>elusive alien of the sea caught by scientist f...</td>\n",
       "      <td>Alexander Smith</td>\n",
       "      <td>['']</td>\n",
       "      <td>NaN</td>\n",
       "    </tr>\n",
       "    <tr>\n",
       "      <th>4</th>\n",
       "      <td>bipartisanreport.com</td>\n",
       "      <td>clickbait</td>\n",
       "      <td>http://bipartisanreport.com/2018/01/21/trumps-...</td>\n",
       "      <td>donald trump has the unnerving ability to abil...</td>\n",
       "      <td>trump s genius poll is complete the results ha...</td>\n",
       "      <td>Gloria Christie</td>\n",
       "      <td>['']</td>\n",
       "      <td>NaN</td>\n",
       "    </tr>\n",
       "    <tr>\n",
       "      <th>5</th>\n",
       "      <td>blackagendareport.com</td>\n",
       "      <td>unreliable</td>\n",
       "      <td>https://blackagendareport.com/articlelist/Medi...</td>\n",
       "      <td>republicans and democrats alike are willing to...</td>\n",
       "      <td>black agenda report</td>\n",
       "      <td>Margaret Kimberley, Bar Editor, Senior Columni...</td>\n",
       "      <td>['']</td>\n",
       "      <td>NaN</td>\n",
       "    </tr>\n",
       "    <tr>\n",
       "      <th>6</th>\n",
       "      <td>awarenessact.com</td>\n",
       "      <td>conspiracy</td>\n",
       "      <td>http://awarenessact.com/tag/waking-up-in-the-m...</td>\n",
       "      <td>could you imagine waking up in the morgue i fo...</td>\n",
       "      <td>waking up in the morgue awareness act</td>\n",
       "      <td>Gerald Sinclair</td>\n",
       "      <td>['']</td>\n",
       "      <td>NaN</td>\n",
       "    </tr>\n",
       "    <tr>\n",
       "      <th>7</th>\n",
       "      <td>beforeitsnews.com</td>\n",
       "      <td>fake</td>\n",
       "      <td>http://beforeitsnews.com/home/featuredlist/v2_...</td>\n",
       "      <td>citizen journalist by n morgan q has released ...</td>\n",
       "      <td>citizen journalist</td>\n",
       "      <td>NaN</td>\n",
       "      <td>['']</td>\n",
       "      <td>NaN</td>\n",
       "    </tr>\n",
       "    <tr>\n",
       "      <th>8</th>\n",
       "      <td>beforeitsnews.com</td>\n",
       "      <td>fake</td>\n",
       "      <td>http://beforeitsnews.com/economy/2018/01/usa-d...</td>\n",
       "      <td>usa dollar tanks on mnuchin statement that he ...</td>\n",
       "      <td>usa dollar tanks on mnuchin statement that he ...</td>\n",
       "      <td>NaN</td>\n",
       "      <td>['']</td>\n",
       "      <td>NaN</td>\n",
       "    </tr>\n",
       "    <tr>\n",
       "      <th>9</th>\n",
       "      <td>canadafreepress.com</td>\n",
       "      <td>conspiracy</td>\n",
       "      <td>http://canadafreepress.com/article/its-not-rea...</td>\n",
       "      <td>subscribe to canada free press for free neithe...</td>\n",
       "      <td>it s not really president trump who needs his ...</td>\n",
       "      <td>Judi Mcleod, Because Without America, There Is...</td>\n",
       "      <td>['']</td>\n",
       "      <td>NaN</td>\n",
       "    </tr>\n",
       "  </tbody>\n",
       "</table>\n",
       "</div>"
      ],
      "text/plain": [
       "                  domain        type  \\\n",
       "0                awm.com  unreliable   \n",
       "1      beforeitsnews.com        fake   \n",
       "2            cnnnext.com  unreliable   \n",
       "3                awm.com  unreliable   \n",
       "4   bipartisanreport.com   clickbait   \n",
       "5  blackagendareport.com  unreliable   \n",
       "6       awarenessact.com  conspiracy   \n",
       "7      beforeitsnews.com        fake   \n",
       "8      beforeitsnews.com        fake   \n",
       "9    canadafreepress.com  conspiracy   \n",
       "\n",
       "                                                 url  \\\n",
       "0  http://awm.com/church-congregation-brings-gift...   \n",
       "1  http://beforeitsnews.com/awakening-start-here/...   \n",
       "2  http://www.cnnnext.com/video/18526/never-hike-...   \n",
       "3  http://awm.com/elusive-alien-of-the-sea-caught...   \n",
       "4  http://bipartisanreport.com/2018/01/21/trumps-...   \n",
       "5  https://blackagendareport.com/articlelist/Medi...   \n",
       "6  http://awarenessact.com/tag/waking-up-in-the-m...   \n",
       "7  http://beforeitsnews.com/home/featuredlist/v2_...   \n",
       "8  http://beforeitsnews.com/economy/2018/01/usa-d...   \n",
       "9  http://canadafreepress.com/article/its-not-rea...   \n",
       "\n",
       "                                             content  \\\n",
       "0  sometimes the power of christmas will make you...   \n",
       "1  awakening of <number> strands of dna reconnect...   \n",
       "2  never hike alone a friday the 13th fan film us...   \n",
       "3  when a rare shark was caught scientists were l...   \n",
       "4  donald trump has the unnerving ability to abil...   \n",
       "5  republicans and democrats alike are willing to...   \n",
       "6  could you imagine waking up in the morgue i fo...   \n",
       "7  citizen journalist by n morgan q has released ...   \n",
       "8  usa dollar tanks on mnuchin statement that he ...   \n",
       "9  subscribe to canada free press for free neithe...   \n",
       "\n",
       "                                               title  \\\n",
       "0  church congregation brings gift to waitresses ...   \n",
       "1  awakening of <number> strands of dna reconnect...   \n",
       "2  never hike alone a friday the 13th fan film fu...   \n",
       "3  elusive alien of the sea caught by scientist f...   \n",
       "4  trump s genius poll is complete the results ha...   \n",
       "5                                black agenda report   \n",
       "6              waking up in the morgue awareness act   \n",
       "7                                 citizen journalist   \n",
       "8  usa dollar tanks on mnuchin statement that he ...   \n",
       "9  it s not really president trump who needs his ...   \n",
       "\n",
       "                                             authors meta_keywords  \\\n",
       "0                                        Ruth Harris          ['']   \n",
       "1                                       Zurich Times          ['']   \n",
       "2                                                NaN          ['']   \n",
       "3                                    Alexander Smith          ['']   \n",
       "4                                    Gloria Christie          ['']   \n",
       "5  Margaret Kimberley, Bar Editor, Senior Columni...          ['']   \n",
       "6                                    Gerald Sinclair          ['']   \n",
       "7                                                NaN          ['']   \n",
       "8                                                NaN          ['']   \n",
       "9  Judi Mcleod, Because Without America, There Is...          ['']   \n",
       "\n",
       "                                    meta_description  \n",
       "0                                                NaN  \n",
       "1                                                NaN  \n",
       "2  Never Hike Alone: A Friday the 13th Fan Film  ...  \n",
       "3                                                NaN  \n",
       "4                                                NaN  \n",
       "5                                                NaN  \n",
       "6                                                NaN  \n",
       "7                                                NaN  \n",
       "8                                                NaN  \n",
       "9                                                NaN  "
      ]
     },
     "execution_count": 87,
     "metadata": {},
     "output_type": "execute_result"
    }
   ],
   "source": [
    "data = clean_data(data[:10])\n",
    "data"
   ]
  },
  {
   "cell_type": "code",
   "execution_count": 89,
   "id": "149fc67d",
   "metadata": {},
   "outputs": [
    {
     "name": "stdout",
     "output_type": "stream",
     "text": [
      "subscribe to canada free press for free neither rev rodriguez nor pope francis will be there but president trump will be addressing the crowd by satellite it s not really president trump who needs his mouth washed out with soap throwing the spotlight on so called men of the cloth it s not president donald trump who needs to have his mouth washed out with soap for having allegedly made use of the vulgar s word at a white house meeting on immigration there s just no getting around it that some words are more painful than cuss words particularly when they heap praise on abortion advocates members of president trump s evangelical advisory council decided to jump ship for the day and publicly sided with nancy pelosi on daca redstate <date> you have always taken the lead your commitment to the immigrant community to the dreamers is second to none so america is in a better place because of your prophetic leadership on this matter the rev samuel rodriguez who spoke at trump s inauguration last year told pelosi at a press conference on thursday prophetic really pelosi of course is one of the loudest advocates of abortion ever elected coming second only to former president barack obama champion of partial birth abortion how sincere was rev rodriguez when he raised the name of president donald trump in prayer at his inauguration discomfited by the president s use of an expression he has denied using rev rodriguez a member of the unofficial evangelical advisory board and the president of the national hispanic christian leadership conference noted that every single person is created in the image of god and spoke of welcoming people equally from nigeria and norway albeit after a rigorous vetting process later in the day he said more in addition and with great due deference i believe that the comments attributed to our president can best be described as wrong inappropriate and hurtful why because when god looks at these nations he sees his children yahoo <date> it should go without saying that our creator sees among his children millions of babies killed in their mother s wombs sadly the pastor is not the only one who hypocritically regards the president s alleged use of the s word as more preach worthy than the open advocation of abortion isn t it more than a tad hypocritical if not downright sanctimonious that the vatican newspaper l osservatore romano would try a wash his mouth with soap stance on the latest alleged expletive of president donald trump we all know by now that president trump s alleged use of the s word was tattle taled to the internet world by catholic u s senator dick durbin who went straight to the media to report the vulgarity had been repeatedly used at a white house meeting on immigration tattletale dicky durbin continued below the newspaper l osservatore romanothe vatican s flagshipgave trump s comments about the immigration debate in the united states front page attention noting the comments had immediately sparked controversy and indignation never mind that trump denies using the term mercifully the newspaper did not print the vulgar word that automatically spiralled the democrats into a full on faux rage no none of that over here but it s not just vulgar expletives that rile people up some words indiscriminately used to honor abortion advocates are just asif not moreoffensive to the faithful some some pro life catholics must have thought of the s word when reading on twitter that abortion advocate lilianne ploumen former minister for foreign trade and development cooperation in the netherlands was recently honored by pope francis with the title of commander in the pontifical equestrian order of st gregory the great this was one tweet that turned out to be as troubling as it was true the lepanto institute was able to confirm from a <date> dutch radio broadcast that ploumen indeed received the honor in a brief video clip promoting the broadcast ploumen displays the medal while saying that she received it from the pope lepanto institute <date> to say that lilianne ploumen is pro abortion is an extreme understatement and doesn t even come close to the scandalous reality of her activism in january of last year after us president donald trump reinstated the mexico city policy ploumen launched a new ngo called she decides to provide mass amounts of funds to organizations that would no longer receive funds from the us government the mexico city policy automatically denies us funding for international organizations which perform or promote abortion referring to the mexico city policy as a global gag rule ploumen stated that the intention of she decides was to continue support for existing programs being run by organizations such as the united nations population fund unpfa the international planned parenthood federation and marie stopes international she said these are successful and effective programs direct support distributing condoms making sure women are accompanied at the birth and making sure abortion is safe if they have no other choice the lepanto institute continues their ploumen profile but ploumen s anti catholic activity isn t restricted to abortion in september of <number> ploumen participated in the united nations lgbti core group as the first speaker at the event ploumen noted that lgbti rights are human rights in her opening remarks she said we cannot be complacent today in more than <number> countries homosexuality is still criminalizedstigma against lgbt people continue all over the world in <number> ploumen ended foreign aid to the country of uganda for passing a bill banning sodomy and same sex marriage in february of <number> ploumen called on lgbt activists to descend upon and disrupt mass at st john the baptist cathedral wearing pink triangles with the words jesus excludes no one the reason she and other pro lgbt activists were protesting the church s moral teaching regarding homosexuality continued below we already know how pope francis profiles president donald trump in <number> in response to a question about then candidate trump s views on immigration and his intention to build a wall along the u s border with mexico francis said a man with such views was not christian reuters <date> trump who grew up in a presbyterian family shot back saying it was disgraceful for the pope to question his faith actions speak so much louder than cuss words thousands will be taking part in the <date>  for life today neither rev rodriguez nor pope francis will be there but president trump will be addressing the crowd by satellite copyright ©️ canada free press rss feed for judi mcleod judi mcleod is an award winning journalist with <number> years experience in the print media a former toronto sun columnist she also worked for the kingston whig standard her work has appeared on rush limbaugh newsmax com drudge report foxnews com older articles by judi mcleod please adhere to our commenting policy to avoid being banned as a privately owned website we reserve the right to remove any comment and ban any user at any time comments that contain spam advertising vulgarity threats of violence racism anti semitism or personal or abusive attacks on other users may be removed and result in a ban follow these instructions on registering\n"
     ]
    }
   ],
   "source": [
    "print(data[\"content\"][9])"
   ]
  },
  {
   "cell_type": "code",
   "execution_count": 88,
   "id": "6d2e94c7",
   "metadata": {},
   "outputs": [
    {
     "name": "stdout",
     "output_type": "stream",
     "text": [
      "it s not really president trump who needs his mouth washed out with soap\n"
     ]
    }
   ],
   "source": [
    "print(data[\"title\"][9])\n"
   ]
  },
  {
   "cell_type": "code",
   "execution_count": 82,
   "id": "040c1da7",
   "metadata": {},
   "outputs": [
    {
     "data": {
      "text/plain": [
       "0    hurch congregation brings gift to waitresses w...\n",
       "1    wakening of <number> strands of dna reconnecti...\n",
       "2    ever hike alone a friday the 13th fan film ful...\n",
       "3    lusive alien of the sea caught by scientist fo...\n",
       "4    rump s genius poll is complete the results hav...\n",
       "5                                   lack agenda report\n",
       "6                 aking up in the morgue awareness act\n",
       "7                                    itizen journalist\n",
       "8    sa dollar tanks on mnuchin statement that he w...\n",
       "9    t s not really president trump who needs his m...\n",
       "Name: title, dtype: object"
      ]
     },
     "execution_count": 82,
     "metadata": {},
     "output_type": "execute_result"
    }
   ],
   "source": [
    "data[\"title\"]"
   ]
  },
  {
   "cell_type": "code",
   "execution_count": 4,
   "id": "f414e99e",
   "metadata": {},
   "outputs": [],
   "source": [
    "# Task 3\n",
    "# things to explore\n",
    "# 1: clickbait type vs titles\n",
    "# 2: word frequency n-gram vs article type\n",
    "# 3: authors changing type"
   ]
  },
  {
   "cell_type": "code",
   "execution_count": null,
   "id": "a2693e4a",
   "metadata": {},
   "outputs": [],
   "source": []
  },
  {
   "cell_type": "code",
   "execution_count": 5,
   "id": "aac40979",
   "metadata": {},
   "outputs": [
    {
     "data": {
      "text/plain": [
       "'AOPRSTUVWZ'"
      ]
     },
     "execution_count": 5,
     "metadata": {},
     "output_type": "execute_result"
    }
   ],
   "source": [
    "# Task 4\n",
    "group_nr = 14\n",
    "group_substring_raw = \"ABCDEFGHIJKLMNOPRSTUVWZABCDEFGHIJKLMNOPRSTUVWZ\"[group_nr%23:group_nr%23+10]\n",
    "group_substring = \"\"\n",
    "\n",
    "for letter in np.sort(list(group_substring_raw)):\n",
    "    group_substring += letter\n",
    "    \n",
    "group_substring"
   ]
  },
  {
   "cell_type": "code",
   "execution_count": 6,
   "id": "21d3524f",
   "metadata": {},
   "outputs": [],
   "source": [
    "import requests\n",
    "from bs4 import BeautifulSoup\n",
    "\n",
    "response = requests.get('https://en.wikinews.org/wiki/Category:Politics_and_conflicts')\n",
    "contents = response.text\n",
    "\n",
    "soup = BeautifulSoup(contents, 'html.parser')"
   ]
  },
  {
   "cell_type": "code",
   "execution_count": 7,
   "id": "88ce6000",
   "metadata": {},
   "outputs": [],
   "source": [
    "cont = soup.find_all('a', class_=\"external text\")\n",
    "links = []\n",
    "for line in cont:\n",
    "    if np.isin((line.attrs[\"href\"][-1]), list(group_substring)):\n",
    "        links.append(line.attrs[\"href\"])\n",
    "\n",
    "links = [links[0]] # Go through each href and scrape untill next h3 letter is hit. TODO\n",
    "for link in links:\n",
    "    response = requests.get(link)\n",
    "    contents = response.text\n",
    "\n",
    "    soup = BeautifulSoup(contents, 'html.parser')"
   ]
  },
  {
   "cell_type": "code",
   "execution_count": 22,
   "id": "e531d73a",
   "metadata": {},
   "outputs": [],
   "source": [
    "cont = soup.find_all(\"div\", id=\"mw-pages\")"
   ]
  },
  {
   "cell_type": "code",
   "execution_count": null,
   "id": "4af27b04",
   "metadata": {},
   "outputs": [],
   "source": []
  },
  {
   "cell_type": "code",
   "execution_count": null,
   "id": "eef38e2e",
   "metadata": {},
   "outputs": [],
   "source": []
  }
 ],
 "metadata": {
  "kernelspec": {
   "display_name": "Python 3",
   "language": "python",
   "name": "python3"
  },
  "language_info": {
   "codemirror_mode": {
    "name": "ipython",
    "version": 3
   },
   "file_extension": ".py",
   "mimetype": "text/x-python",
   "name": "python",
   "nbconvert_exporter": "python",
   "pygments_lexer": "ipython3",
   "version": "3.10.1"
  }
 },
 "nbformat": 4,
 "nbformat_minor": 5
}
