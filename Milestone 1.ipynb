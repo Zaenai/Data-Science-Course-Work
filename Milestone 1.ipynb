{
 "cells": [
  {
   "cell_type": "code",
   "execution_count": 312,
   "id": "825221bf",
   "metadata": {},
   "outputs": [],
   "source": [
    "# psh270, abc123, def456\n",
    "\n",
    "# Task 2\n",
    "import numpy as np\n",
    "import pandas as pd\n",
    "import re\n",
    "from cleantext.sklearn import CleanTransformer\n",
    "data = pd.read_csv(\"https://raw.githubusercontent.com/several27/FakeNewsCorpus/master/news_sample.csv\")"
   ]
  },
  {
   "cell_type": "code",
   "execution_count": 313,
   "id": "41807c97",
   "metadata": {},
   "outputs": [],
   "source": [
    "initial_cleaner = CleanTransformer(fix_unicode=True,               # fix various unicode errors\n",
    "                                    to_ascii=True,                  # transliterate to closest ASCII representation\n",
    "                                    lower=True,                     # lowercase text\n",
    "                                    no_line_breaks=True,           # fully strip line breaks as opposed to only normalizing them\n",
    "                                    no_urls=True,                  # replace all URLs with a special token\n",
    "                                    no_emails=True,                # replace all email addresses with a special token\n",
    "                                    no_phone_numbers=True,         # replace all phone numbers with a special token\n",
    "                                    no_numbers=False,               # replace all numbers with a special token\n",
    "                                    no_digits=False,                # replace all digits with a special token\n",
    "                                    no_currency_symbols=True,      # replace all currency symbols with a special token\n",
    "                                    no_punct=True,                 # remove punctuations\n",
    "                                    replace_with_punct=\" \",          # instead of removing punctuations you may replace them\n",
    "                                    replace_with_url=\"<url>\",\n",
    "                                    replace_with_email=\"<email>\",\n",
    "                                    replace_with_phone_number=\"<phone>\",\n",
    "                                    replace_with_currency_symbol=\"<cur>\",\n",
    "                                    lang=\"en\"                       # set to 'de' for German special handling\n",
    "                                    )\n",
    "\n",
    "general_cleaner = CleanTransformer(fix_unicode=False,               # fix various unicode errors\n",
    "                                    to_ascii=False,                  # transliterate to closest ASCII representation\n",
    "                                    lower=False,                     # lowercase text\n",
    "                                    no_line_breaks=False,           # fully strip line breaks as opposed to only normalizing them\n",
    "                                    no_urls=False,                  # replace all URLs with a special token\n",
    "                                    no_emails=False,                # replace all email addresses with a special token\n",
    "                                    no_phone_numbers=False,         # replace all phone numbers with a special token\n",
    "                                    no_numbers=True,               # replace all numbers with a special token\n",
    "                                    no_digits=False,                # replace all digits with a special token\n",
    "                                    no_currency_symbols=False,      # replace all currency symbols with a special token\n",
    "                                    no_punct=False,                 # remove punctuations\n",
    "                                    replace_with_number=\"<number>\",\n",
    "                                    lang=\"en\"                       # set to 'de' for German special handling\n",
    "                                    )\n",
    "\n"
   ]
  },
  {
   "cell_type": "code",
   "execution_count": 314,
   "id": "021e28e7",
   "metadata": {},
   "outputs": [],
   "source": [
    "three_numb_date = r'(<number> <number> <number>)' #YYYY/MM/DD or DD/MM/YYYY or MM/DD/YYYY\n",
    "literal_months_date= r'(jan|feb|mar|apr|may|jun|jul|aug|sep|nov|dec)\\S* ((<number> ){1,2}|([0-9]{1,2}(st|nd|rd|th)))' #Eg. jun 2nd 2020, january 23. 2021\n",
    "literal_months_reverse_date = r'((<number> {1,2})|[0-9]{1,2}(st|nd|rd|th)) *(jan|feb|mar|apr|may|jun|jul|aug|sep|nov|dec)\\S*' #Eg. 10th february, 4th july\n",
    "all_dates = (three_numb_date) +'|' + (literal_months_date) +'|'+ (literal_months_reverse_date)\n",
    "\n",
    "multiple_chars = r'(.)\\1{3,}'"
   ]
  },
  {
   "cell_type": "code",
   "execution_count": 315,
   "id": "cdef0af5",
   "metadata": {},
   "outputs": [],
   "source": [
    "#string_test='In gold, the open interest SURPRISINGLY ROSE BY A CONSIDERABLE 9126 CONTRACTS UP TO582,421 WITH THE GOOD SIZED RISE IN PRICE OF GOLD WITH YESTERDAY’S TRADING ($5.55). IN ANOTHER HUGE DEVELOPMENT, WE RECEIVED THE TOTAL NUMBER OF GOLD EFP’S ISSUED FOR WEDNESDAY AND IT TOTALED A HUMONGOUS SIZED 12,223 CONTRACTS OF WHICH FEBRUARY SAW 11,023 CONTRACTS ISSUED AND APRIL SAW THE ISSUANCE OF 1200 CONTRACTS.'\n",
    "#date_test  = '12/18/10 12/18/2020 12-18-10 12-18-2020 12/18/10 12/18/2020 12.18.10 12.18.2020 noise 12182010 december 18, 2010 janu 10th march 1st 3st january Dekjkj 10th  noise 10/20  noise noise 2020 10th january 2021'\n",
    "def clean_data(data):\n",
    "    #Dropping unneeded columns\n",
    "    cols_to_delete = [\"Unnamed: 0\",\"id\",\"scraped_at\",\"inserted_at\",\"updated_at\"]\n",
    "    for column in data.columns:\n",
    "        if data[column].isnull().values.all():\n",
    "            cols_to_delete.append(column)\n",
    "\n",
    "    data.drop(cols_to_delete, 1,inplace=True)\n",
    "    \n",
    "    #match = re.compile(all_dates)\n",
    "    for i, content in enumerate(data[\"content\"]):    \n",
    "        #We first convert to lower case and replace punctuation with space such that dates can\n",
    "        #more easily be processed (eg. 10.12.2020 -> 10 12 2020 -> <NUMBER> <NUMBER> <NUMBER> instead of <NUMBER><NUMBER><DIGIT> or something)\n",
    "        new_content = initial_cleaner.transform([content])[0]\n",
    "        new_content = general_cleaner.transform([new_content])[0]\n",
    "        new_content = re.sub(all_dates, '<date> ', new_content)\n",
    "        #all_matches = match.findall(new_content)\n",
    "        data.at[i, \"content\"] = new_content\n",
    "    return data\n"
   ]
  },
  {
   "cell_type": "code",
   "execution_count": 316,
   "id": "7f7ca311",
   "metadata": {},
   "outputs": [
    {
     "data": {
      "text/plain": [
       "'Sometimes the power of Christmas will make you do wild and wonderful things. You do not need to believe in the Holy Trinity to believe in the positive power of doing good for others. The simple act of giving without receiving is lost on many of us these days, as worries about money and success hold us back from giving to others who are in need. One congregation in Ohio was moved to action by the power of a sermon given at their church on Christmas Eve. The pastor at Grand Lake United Methodist Church in Celina, Ohio gave an emotional sermon about the importance of understanding the message of Jesus.\\n\\nFor many religious people the message of Jesus is to help others before yourself, to make sure the people who are suffering get the help they need to enjoy life a little bit. The sermon was really about generosity and what that can look like in our lives. Jesus lived a long time ago and he acted generously in the fashion of his time – but what would a generous act look like in our times? That was the focus of the sermon.\\n\\nThe potency of the sermon was not lost on the congregation, who were so moved they had to take action! After the sermon ended, the congregation decided to take an offering. A bowl was passed around the room and everyone pitched in what they could on this Christmas Eve with the words of the sermon still ringing in their ears.\\n\\nWhat did they do with this offering? Members of the congregation drove down to the local Waffle House to visit the ladies working the night shift. What a great choice on this most holy of days when everyone should be with their families!\\n\\nThe ladies working at Waffle House clearly were not with their families. They had no choice but to work on this holy day because it paid the bills. The congregation understood the sacrifice being made by these ladies, and wanted to help them out. They donated the entire offering to be split amongst the ladies at Waffle House.\\n\\nIn total that amounted to $3,500 being split amongst the staff. What a beautiful moment! What a perfect example of what the preacher was talking about in his sermon! Doing a good deed like this on Christmas really helped ease the burden felt by the ladies working at Waffle House. Sure, they could not see their families, but at least they got a little gift from the good people of their community.\\n\\nPerhaps the best part about this whole event was that the congregation did not ask anything in return. It was a simple act of generosity from people who understood the pain being felt by another group and sought to alleviate some of that pain. It speaks volumes about the merits of the Church in our daily lives. This simple act brought the entire community together because it showed empathy and compassion on the most special day of the year.'"
      ]
     },
     "execution_count": 316,
     "metadata": {},
     "output_type": "execute_result"
    }
   ],
   "source": [
    "data.at[0, \"content\"]"
   ]
  },
  {
   "cell_type": "markdown",
   "id": "5a3421d7",
   "metadata": {},
   "source": [
    "Since we are working on a subset of the full dataset, there is no need to include the old index/ID.\n",
    "Furthermore, since pandas adds an index column, we do not have a need for the already existing (possibly error prone) local index (Unnamed: 0).\n",
    "\n",
    "Metadata regarding scraping, time of updates etc. do not serve a significant impact on the processing we wish to perform."
   ]
  },
  {
   "cell_type": "code",
   "execution_count": 317,
   "id": "8313171a",
   "metadata": {},
   "outputs": [
    {
     "name": "stderr",
     "output_type": "stream",
     "text": [
      "C:\\Users\\Computer\\AppData\\Local\\Temp\\ipykernel_31848\\4280562782.py:10: FutureWarning: In a future version of pandas all arguments of DataFrame.drop except for the argument 'labels' will be keyword-only\n",
      "  data.drop(cols_to_delete, 1,inplace=True)\n",
      "C:\\Users\\Computer\\AppData\\Local\\Programs\\Python\\Python310\\lib\\site-packages\\pandas\\core\\frame.py:4906: SettingWithCopyWarning: \n",
      "A value is trying to be set on a copy of a slice from a DataFrame\n",
      "\n",
      "See the caveats in the documentation: https://pandas.pydata.org/pandas-docs/stable/user_guide/indexing.html#returning-a-view-versus-a-copy\n",
      "  return super().drop(\n"
     ]
    },
    {
     "data": {
      "text/html": [
       "<div>\n",
       "<style scoped>\n",
       "    .dataframe tbody tr th:only-of-type {\n",
       "        vertical-align: middle;\n",
       "    }\n",
       "\n",
       "    .dataframe tbody tr th {\n",
       "        vertical-align: top;\n",
       "    }\n",
       "\n",
       "    .dataframe thead th {\n",
       "        text-align: right;\n",
       "    }\n",
       "</style>\n",
       "<table border=\"1\" class=\"dataframe\">\n",
       "  <thead>\n",
       "    <tr style=\"text-align: right;\">\n",
       "      <th></th>\n",
       "      <th>domain</th>\n",
       "      <th>type</th>\n",
       "      <th>url</th>\n",
       "      <th>content</th>\n",
       "      <th>title</th>\n",
       "      <th>authors</th>\n",
       "      <th>meta_keywords</th>\n",
       "      <th>meta_description</th>\n",
       "    </tr>\n",
       "  </thead>\n",
       "  <tbody>\n",
       "    <tr>\n",
       "      <th>0</th>\n",
       "      <td>awm.com</td>\n",
       "      <td>unreliable</td>\n",
       "      <td>http://awm.com/church-congregation-brings-gift...</td>\n",
       "      <td>sometimes the power of christmas will make you...</td>\n",
       "      <td>Church Congregation Brings Gift to Waitresses ...</td>\n",
       "      <td>Ruth Harris</td>\n",
       "      <td>['']</td>\n",
       "      <td>NaN</td>\n",
       "    </tr>\n",
       "    <tr>\n",
       "      <th>1</th>\n",
       "      <td>beforeitsnews.com</td>\n",
       "      <td>fake</td>\n",
       "      <td>http://beforeitsnews.com/awakening-start-here/...</td>\n",
       "      <td>awakening of &lt;number&gt; strands of dna reconnect...</td>\n",
       "      <td>AWAKENING OF 12 STRANDS of DNA – “Reconnecting...</td>\n",
       "      <td>Zurich Times</td>\n",
       "      <td>['']</td>\n",
       "      <td>NaN</td>\n",
       "    </tr>\n",
       "    <tr>\n",
       "      <th>2</th>\n",
       "      <td>cnnnext.com</td>\n",
       "      <td>unreliable</td>\n",
       "      <td>http://www.cnnnext.com/video/18526/never-hike-...</td>\n",
       "      <td>never hike alone a friday the 13th fan film us...</td>\n",
       "      <td>Never Hike Alone - A Friday the 13th Fan Film ...</td>\n",
       "      <td>NaN</td>\n",
       "      <td>['']</td>\n",
       "      <td>Never Hike Alone: A Friday the 13th Fan Film  ...</td>\n",
       "    </tr>\n",
       "    <tr>\n",
       "      <th>3</th>\n",
       "      <td>awm.com</td>\n",
       "      <td>unreliable</td>\n",
       "      <td>http://awm.com/elusive-alien-of-the-sea-caught...</td>\n",
       "      <td>when a rare shark was caught scientists were l...</td>\n",
       "      <td>Elusive ‘Alien Of The Sea ‘ Caught By Scientis...</td>\n",
       "      <td>Alexander Smith</td>\n",
       "      <td>['']</td>\n",
       "      <td>NaN</td>\n",
       "    </tr>\n",
       "    <tr>\n",
       "      <th>4</th>\n",
       "      <td>bipartisanreport.com</td>\n",
       "      <td>clickbait</td>\n",
       "      <td>http://bipartisanreport.com/2018/01/21/trumps-...</td>\n",
       "      <td>donald trump has the unnerving ability to abil...</td>\n",
       "      <td>Trump’s Genius Poll Is Complete &amp; The Results ...</td>\n",
       "      <td>Gloria Christie</td>\n",
       "      <td>['']</td>\n",
       "      <td>NaN</td>\n",
       "    </tr>\n",
       "    <tr>\n",
       "      <th>5</th>\n",
       "      <td>blackagendareport.com</td>\n",
       "      <td>unreliable</td>\n",
       "      <td>https://blackagendareport.com/articlelist/Medi...</td>\n",
       "      <td>republicans and democrats alike are willing to...</td>\n",
       "      <td>Black Agenda Report</td>\n",
       "      <td>Margaret Kimberley, Bar Editor, Senior Columni...</td>\n",
       "      <td>['']</td>\n",
       "      <td>NaN</td>\n",
       "    </tr>\n",
       "    <tr>\n",
       "      <th>6</th>\n",
       "      <td>awarenessact.com</td>\n",
       "      <td>conspiracy</td>\n",
       "      <td>http://awarenessact.com/tag/waking-up-in-the-m...</td>\n",
       "      <td>could you imagine waking up in the morgue i fo...</td>\n",
       "      <td>waking up in the morgue – Awareness Act</td>\n",
       "      <td>Gerald Sinclair</td>\n",
       "      <td>['']</td>\n",
       "      <td>NaN</td>\n",
       "    </tr>\n",
       "    <tr>\n",
       "      <th>7</th>\n",
       "      <td>beforeitsnews.com</td>\n",
       "      <td>fake</td>\n",
       "      <td>http://beforeitsnews.com/home/featuredlist/v2_...</td>\n",
       "      <td>citizen journalist by n morgan q has released ...</td>\n",
       "      <td>Citizen Journalist</td>\n",
       "      <td>NaN</td>\n",
       "      <td>['']</td>\n",
       "      <td>NaN</td>\n",
       "    </tr>\n",
       "    <tr>\n",
       "      <th>8</th>\n",
       "      <td>beforeitsnews.com</td>\n",
       "      <td>fake</td>\n",
       "      <td>http://beforeitsnews.com/economy/2018/01/usa-d...</td>\n",
       "      <td>usa dollar tanks on mnuchin statement that he ...</td>\n",
       "      <td>Usa Dollar Tanks On Mnuchin Statement That He ...</td>\n",
       "      <td>NaN</td>\n",
       "      <td>['']</td>\n",
       "      <td>NaN</td>\n",
       "    </tr>\n",
       "    <tr>\n",
       "      <th>9</th>\n",
       "      <td>canadafreepress.com</td>\n",
       "      <td>conspiracy</td>\n",
       "      <td>http://canadafreepress.com/article/its-not-rea...</td>\n",
       "      <td>subscribe to canada free press for free neithe...</td>\n",
       "      <td>It’s Not Really President Trump Who Needs His ...</td>\n",
       "      <td>Judi Mcleod, Because Without America, There Is...</td>\n",
       "      <td>['']</td>\n",
       "      <td>NaN</td>\n",
       "    </tr>\n",
       "  </tbody>\n",
       "</table>\n",
       "</div>"
      ],
      "text/plain": [
       "                  domain        type  \\\n",
       "0                awm.com  unreliable   \n",
       "1      beforeitsnews.com        fake   \n",
       "2            cnnnext.com  unreliable   \n",
       "3                awm.com  unreliable   \n",
       "4   bipartisanreport.com   clickbait   \n",
       "5  blackagendareport.com  unreliable   \n",
       "6       awarenessact.com  conspiracy   \n",
       "7      beforeitsnews.com        fake   \n",
       "8      beforeitsnews.com        fake   \n",
       "9    canadafreepress.com  conspiracy   \n",
       "\n",
       "                                                 url  \\\n",
       "0  http://awm.com/church-congregation-brings-gift...   \n",
       "1  http://beforeitsnews.com/awakening-start-here/...   \n",
       "2  http://www.cnnnext.com/video/18526/never-hike-...   \n",
       "3  http://awm.com/elusive-alien-of-the-sea-caught...   \n",
       "4  http://bipartisanreport.com/2018/01/21/trumps-...   \n",
       "5  https://blackagendareport.com/articlelist/Medi...   \n",
       "6  http://awarenessact.com/tag/waking-up-in-the-m...   \n",
       "7  http://beforeitsnews.com/home/featuredlist/v2_...   \n",
       "8  http://beforeitsnews.com/economy/2018/01/usa-d...   \n",
       "9  http://canadafreepress.com/article/its-not-rea...   \n",
       "\n",
       "                                             content  \\\n",
       "0  sometimes the power of christmas will make you...   \n",
       "1  awakening of <number> strands of dna reconnect...   \n",
       "2  never hike alone a friday the 13th fan film us...   \n",
       "3  when a rare shark was caught scientists were l...   \n",
       "4  donald trump has the unnerving ability to abil...   \n",
       "5  republicans and democrats alike are willing to...   \n",
       "6  could you imagine waking up in the morgue i fo...   \n",
       "7  citizen journalist by n morgan q has released ...   \n",
       "8  usa dollar tanks on mnuchin statement that he ...   \n",
       "9  subscribe to canada free press for free neithe...   \n",
       "\n",
       "                                               title  \\\n",
       "0  Church Congregation Brings Gift to Waitresses ...   \n",
       "1  AWAKENING OF 12 STRANDS of DNA – “Reconnecting...   \n",
       "2  Never Hike Alone - A Friday the 13th Fan Film ...   \n",
       "3  Elusive ‘Alien Of The Sea ‘ Caught By Scientis...   \n",
       "4  Trump’s Genius Poll Is Complete & The Results ...   \n",
       "5                                Black Agenda Report   \n",
       "6            waking up in the morgue – Awareness Act   \n",
       "7                                 Citizen Journalist   \n",
       "8  Usa Dollar Tanks On Mnuchin Statement That He ...   \n",
       "9  It’s Not Really President Trump Who Needs His ...   \n",
       "\n",
       "                                             authors meta_keywords  \\\n",
       "0                                        Ruth Harris          ['']   \n",
       "1                                       Zurich Times          ['']   \n",
       "2                                                NaN          ['']   \n",
       "3                                    Alexander Smith          ['']   \n",
       "4                                    Gloria Christie          ['']   \n",
       "5  Margaret Kimberley, Bar Editor, Senior Columni...          ['']   \n",
       "6                                    Gerald Sinclair          ['']   \n",
       "7                                                NaN          ['']   \n",
       "8                                                NaN          ['']   \n",
       "9  Judi Mcleod, Because Without America, There Is...          ['']   \n",
       "\n",
       "                                    meta_description  \n",
       "0                                                NaN  \n",
       "1                                                NaN  \n",
       "2  Never Hike Alone: A Friday the 13th Fan Film  ...  \n",
       "3                                                NaN  \n",
       "4                                                NaN  \n",
       "5                                                NaN  \n",
       "6                                                NaN  \n",
       "7                                                NaN  \n",
       "8                                                NaN  \n",
       "9                                                NaN  "
      ]
     },
     "execution_count": 317,
     "metadata": {},
     "output_type": "execute_result"
    }
   ],
   "source": [
    "data = clean_data(data[:10])\n",
    "data"
   ]
  },
  {
   "cell_type": "code",
   "execution_count": 318,
   "id": "149fc67d",
   "metadata": {},
   "outputs": [
    {
     "name": "stdout",
     "output_type": "stream",
     "text": [
      "subscribe to canada free press for free neither rev rodriguez nor pope francis will be there but president trump will be addressing the crowd by satellite it s not really president trump who needs his mouth washed out with soap throwing the spotlight on so called men of the cloth it s not president donald trump who needs to have his mouth washed out with soap for having allegedly made use of the vulgar s word at a white house meeting on immigration there s just no getting around it that some words are more painful than cuss words particularly when they heap praise on abortion advocates members of president trump s evangelical advisory council decided to jump ship for the day and publicly sided with nancy pelosi on daca redstate <date> you have always taken the lead your commitment to the immigrant community to the dreamers is second to none so america is in a better place because of your prophetic leadership on this matter the rev samuel rodriguez who spoke at trump s inauguration last year told pelosi at a press conference on thursday prophetic really pelosi of course is one of the loudest advocates of abortion ever elected coming second only to former president barack obama champion of partial birth abortion how sincere was rev rodriguez when he raised the name of president donald trump in prayer at his inauguration discomfited by the president s use of an expression he has denied using rev rodriguez a member of the unofficial evangelical advisory board and the president of the national hispanic christian leadership conference noted that every single person is created in the image of god and spoke of welcoming people equally from nigeria and norway albeit after a rigorous vetting process later in the day he said more in addition and with great due deference i believe that the comments attributed to our president can best be described as wrong inappropriate and hurtful why because when god looks at these nations he sees his children yahoo <date> it should go without saying that our creator sees among his children millions of babies killed in their mother s wombs sadly the pastor is not the only one who hypocritically regards the president s alleged use of the s word as more preach worthy than the open advocation of abortion isn t it more than a tad hypocritical if not downright sanctimonious that the vatican newspaper l osservatore romano would try a wash his mouth with soap stance on the latest alleged expletive of president donald trump we all know by now that president trump s alleged use of the s word was tattle taled to the internet world by catholic u s senator dick durbin who went straight to the media to report the vulgarity had been repeatedly used at a white house meeting on immigration tattletale dicky durbin continued below the newspaper l osservatore romanothe vatican s flagshipgave trump s comments about the immigration debate in the united states front page attention noting the comments had immediately sparked controversy and indignation never mind that trump denies using the term mercifully the newspaper did not print the vulgar word that automatically spiralled the democrats into a full on faux rage no none of that over here but it s not just vulgar expletives that rile people up some words indiscriminately used to honor abortion advocates are just asif not moreoffensive to the faithful some some pro life catholics must have thought of the s word when reading on twitter that abortion advocate lilianne ploumen former minister for foreign trade and development cooperation in the netherlands was recently honored by pope francis with the title of commander in the pontifical equestrian order of st gregory the great this was one tweet that turned out to be as troubling as it was true the lepanto institute was able to confirm from a <date> dutch radio broadcast that ploumen indeed received the honor in a brief video clip promoting the broadcast ploumen displays the medal while saying that she received it from the pope lepanto institute <date> to say that lilianne ploumen is pro abortion is an extreme understatement and doesn t even come close to the scandalous reality of her activism in january of last year after us president donald trump reinstated the mexico city policy ploumen launched a new ngo called she decides to provide mass amounts of funds to organizations that would no longer receive funds from the us government the mexico city policy automatically denies us funding for international organizations which perform or promote abortion referring to the mexico city policy as a global gag rule ploumen stated that the intention of she decides was to continue support for existing programs being run by organizations such as the united nations population fund unpfa the international planned parenthood federation and marie stopes international she said these are successful and effective programs direct support distributing condoms making sure women are accompanied at the birth and making sure abortion is safe if they have no other choice the lepanto institute continues their ploumen profile but ploumen s anti catholic activity isn t restricted to abortion in september of <number> ploumen participated in the united nations lgbti core group as the first speaker at the event ploumen noted that lgbti rights are human rights in her opening remarks she said we cannot be complacent today in more than <number> countries homosexuality is still criminalizedstigma against lgbt people continue all over the world in <number> ploumen ended foreign aid to the country of uganda for passing a bill banning sodomy and same sex marriage in february of <number> ploumen called on lgbt activists to descend upon and disrupt mass at st john the baptist cathedral wearing pink triangles with the words jesus excludes no one the reason she and other pro lgbt activists were protesting the church s moral teaching regarding homosexuality continued below we already know how pope francis profiles president donald trump in <number> in response to a question about then candidate trump s views on immigration and his intention to build a wall along the u s border with mexico francis said a man with such views was not christian reuters <date> trump who grew up in a presbyterian family shot back saying it was disgraceful for the pope to question his faith actions speak so much louder than cuss words thousands will be taking part in the <date>  for life today neither rev rodriguez nor pope francis will be there but president trump will be addressing the crowd by satellite copyright ©️ canada free press rss feed for judi mcleod judi mcleod is an award winning journalist with <number> years experience in the print media a former toronto sun columnist she also worked for the kingston whig standard her work has appeared on rush limbaugh newsmax com drudge report foxnews com older articles by judi mcleod please adhere to our commenting policy to avoid being banned as a privately owned website we reserve the right to remove any comment and ban any user at any time comments that contain spam advertising vulgarity threats of violence racism anti semitism or personal or abusive attacks on other users may be removed and result in a ban follow these instructions on registering\n"
     ]
    }
   ],
   "source": [
    "print(data[\"content\"][9])"
   ]
  },
  {
   "cell_type": "code",
   "execution_count": 4,
   "id": "f414e99e",
   "metadata": {},
   "outputs": [],
   "source": [
    "# Task 3"
   ]
  },
  {
   "cell_type": "code",
   "execution_count": null,
   "id": "a2693e4a",
   "metadata": {},
   "outputs": [],
   "source": []
  },
  {
   "cell_type": "code",
   "execution_count": 5,
   "id": "aac40979",
   "metadata": {},
   "outputs": [
    {
     "data": {
      "text/plain": [
       "'AOPRSTUVWZ'"
      ]
     },
     "execution_count": 5,
     "metadata": {},
     "output_type": "execute_result"
    }
   ],
   "source": [
    "# Task 4\n",
    "group_nr = 14\n",
    "group_substring_raw = \"ABCDEFGHIJKLMNOPRSTUVWZABCDEFGHIJKLMNOPRSTUVWZ\"[group_nr%23:group_nr%23+10]\n",
    "group_substring = \"\"\n",
    "\n",
    "for letter in np.sort(list(group_substring_raw)):\n",
    "    group_substring += letter\n",
    "    \n",
    "group_substring"
   ]
  },
  {
   "cell_type": "code",
   "execution_count": 6,
   "id": "21d3524f",
   "metadata": {},
   "outputs": [],
   "source": [
    "import requests\n",
    "from bs4 import BeautifulSoup\n",
    "\n",
    "response = requests.get('https://en.wikinews.org/wiki/Category:Politics_and_conflicts')\n",
    "contents = response.text\n",
    "\n",
    "soup = BeautifulSoup(contents, 'html.parser')"
   ]
  },
  {
   "cell_type": "code",
   "execution_count": 7,
   "id": "88ce6000",
   "metadata": {},
   "outputs": [],
   "source": [
    "cont = soup.find_all('a', class_=\"external text\")\n",
    "links = []\n",
    "for line in cont:\n",
    "    if np.isin((line.attrs[\"href\"][-1]), list(group_substring)):\n",
    "        links.append(line.attrs[\"href\"])\n",
    "\n",
    "links = [links[0]] # Go through each href and scrape untill next h3 letter is hit. TODO\n",
    "for link in links:\n",
    "    response = requests.get(link)\n",
    "    contents = response.text\n",
    "\n",
    "    soup = BeautifulSoup(contents, 'html.parser')"
   ]
  },
  {
   "cell_type": "code",
   "execution_count": 22,
   "id": "e531d73a",
   "metadata": {},
   "outputs": [],
   "source": [
    "cont = soup.find_all(\"div\", id=\"mw-pages\")"
   ]
  },
  {
   "cell_type": "code",
   "execution_count": null,
   "id": "4af27b04",
   "metadata": {},
   "outputs": [],
   "source": []
  },
  {
   "cell_type": "code",
   "execution_count": null,
   "id": "eef38e2e",
   "metadata": {},
   "outputs": [],
   "source": []
  }
 ],
 "metadata": {
  "kernelspec": {
   "display_name": "Python 3",
   "language": "python",
   "name": "python3"
  },
  "language_info": {
   "codemirror_mode": {
    "name": "ipython",
    "version": 3
   },
   "file_extension": ".py",
   "mimetype": "text/x-python",
   "name": "python",
   "nbconvert_exporter": "python",
   "pygments_lexer": "ipython3",
   "version": "3.10.1"
  }
 },
 "nbformat": 4,
 "nbformat_minor": 5
}
