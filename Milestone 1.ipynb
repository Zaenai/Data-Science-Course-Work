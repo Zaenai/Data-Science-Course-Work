{
 "cells": [
  {
   "cell_type": "code",
   "execution_count": 145,
   "id": "825221bf",
   "metadata": {},
   "outputs": [],
   "source": [
    "# psh270, jxs535, def456, hkp680\n",
    "\n",
    "# Task 2\n",
    "import numpy as np\n",
    "import pandas as pd\n",
    "import re\n",
    "from cleantext.sklearn import CleanTransformer # likely required to ´pip install clean-text´\n",
    "data = pd.read_csv(\"https://raw.githubusercontent.com/several27/FakeNewsCorpus/master/news_sample.csv\")"
   ]
  },
  {
   "cell_type": "code",
   "execution_count": 146,
   "id": "41807c97",
   "metadata": {},
   "outputs": [],
   "source": [
    "initial_cleaner = CleanTransformer(fix_unicode=True,               # fix various unicode errors\n",
    "                                    to_ascii=True,                  # transliterate to closest ASCII representation\n",
    "                                    lower=True,                     # lowercase text\n",
    "                                    no_line_breaks=True,           # fully strip line breaks as opposed to only normalizing them\n",
    "                                    no_urls=True,                  # replace all URLs with a special token\n",
    "                                    no_emails=True,                # replace all email addresses with a special token\n",
    "                                    no_phone_numbers=True,         # replace all phone numbers with a special token\n",
    "                                    no_numbers=False,               # replace all numbers with a special token\n",
    "                                    no_digits=False,                # replace all digits with a special token\n",
    "                                    no_currency_symbols=True,      # replace all currency symbols with a special token\n",
    "                                    no_punct=True,                 # remove punctuations\n",
    "                                    replace_with_punct=\" \",          # instead of removing punctuations you may replace them\n",
    "                                    replace_with_url=\"<url>\",\n",
    "                                    replace_with_email=\"<email>\",\n",
    "                                    replace_with_phone_number=\"<phone>\",\n",
    "                                    replace_with_currency_symbol=\"<cur>\",\n",
    "                                    lang=\"en\"                       # set to 'de' for German special handling\n",
    "                                    )\n",
    "\n",
    "general_cleaner = CleanTransformer(fix_unicode=False,               # fix various unicode errors\n",
    "                                    to_ascii=False,                  # transliterate to closest ASCII representation\n",
    "                                    lower=False,                     # lowercase text\n",
    "                                    no_line_breaks=False,           # fully strip line breaks as opposed to only normalizing them\n",
    "                                    no_urls=False,                  # replace all URLs with a special token\n",
    "                                    no_emails=False,                # replace all email addresses with a special token\n",
    "                                    no_phone_numbers=False,         # replace all phone numbers with a special token\n",
    "                                    no_numbers=True,               # replace all numbers with a special token\n",
    "                                    no_digits=False,                # replace all digits with a special token\n",
    "                                    no_currency_symbols=False,      # replace all currency symbols with a special token\n",
    "                                    no_punct=False,                 # remove punctuations\n",
    "                                    replace_with_number=\"<number>\",\n",
    "                                    lang=\"en\"                       # set to 'de' for German special handling\n",
    "                                    )\n",
    "\n"
   ]
  },
  {
   "cell_type": "code",
   "execution_count": 147,
   "id": "021e28e7",
   "metadata": {},
   "outputs": [],
   "source": [
    "three_numb_date = r'(<number> <number> <number>)' #YYYY/MM/DD or DD/MM/YYYY or MM/DD/YYYY\n",
    "literal_months_date= r'(jan|feb|mar|apr|may|jun|jul|aug|sep|nov|dec)\\S* ((<number> ){1,2}|([0-9]{1,2}(st|nd|rd|th)))' #Eg. jun 2nd 2020, january 23. 2021\n",
    "literal_months_reverse_date = r'((<number> {1,2})|[0-9]{1,2}(st|nd|rd|th)) *(jan|feb|mar|apr|may|jun|jul|aug|sep|nov|dec)\\S*' #Eg. 10th february, 4th july\n",
    "all_dates = (three_numb_date) +'|' + (literal_months_date) +'|'+ (literal_months_reverse_date)\n",
    "multiple_chars = r'(.)\\1{3,}'\n",
    "special_symbols = r'([^<>a-z ])'#Matches special symbols such as © or ™"
   ]
  },
  {
   "cell_type": "code",
   "execution_count": 148,
   "id": "cdef0af5",
   "metadata": {},
   "outputs": [],
   "source": [
    "#string_test='In gold, the open interest SURPRISINGLY ROSE BY A CONSIDERABLE 9126 CONTRACTS UP TO582,421 WITH THE GOOD SIZED RISE IN PRICE OF GOLD WITH YESTERDAY’S TRADING ($5.55). IN ANOTHER HUGE DEVELOPMENT, WE RECEIVED THE TOTAL NUMBER OF GOLD EFP’S ISSUED FOR WEDNESDAY AND IT TOTALED A HUMONGOUS SIZED 12,223 CONTRACTS OF WHICH FEBRUARY SAW 11,023 CONTRACTS ISSUED AND APRIL SAW THE ISSUANCE OF 1200 CONTRACTS.'\n",
    "#date_test  = '12/18/10 12/18/2020 12-18-10 12-18-2020 12/18/10 12/18/2020 12.18.10 12.18.2020 noise 12182010 december 18, 2010 janu 10th march 1st 3st january Dekjkj 10th  noise 10/20  noise noise 2020 10th january 2021'\n",
    "\n",
    "def clean_column(data, col_name):\n",
    "    for i, entry in enumerate(data[col_name]):    \n",
    "        #We first convert to lower case and replace punctuation with space such that dates can\n",
    "        #more easily be processed (eg. 10.12.2020 -> 10 12 2020 -> <NUMBER> <NUMBER> <NUMBER> instead of <NUMBER><NUMBER><DIGIT> or something)\n",
    "        cleaned = initial_cleaner.transform([entry])[0]\n",
    "        cleaned = general_cleaner.transform([cleaned])[0]\n",
    "        cleaned = re.sub(all_dates, '<date> ', cleaned)\n",
    "        cleaned = re.sub(special_symbols,'',cleaned)\n",
    "        cleaned = re.sub(multiple_chars, '', cleaned)\n",
    "        data.at[i, col_name] = cleaned\n",
    "\n",
    "def clean_data(data):\n",
    "    #Dropping unneeded columns\n",
    "    cols_to_delete = [\"Unnamed: 0\",\"id\",\"scraped_at\",\"inserted_at\",\"updated_at\"]\n",
    "    for column in data.columns:\n",
    "        if data[column].isnull().values.all():\n",
    "            cols_to_delete.append(column)\n",
    "\n",
    "    data.drop(cols_to_delete, 1, inplace=True)\n",
    "    \n",
    "    clean_column(data, \"content\")\n",
    "    clean_column(data, \"title\")\n",
    "    return data\n"
   ]
  },
  {
   "cell_type": "code",
   "execution_count": 151,
   "id": "7f7ca311",
   "metadata": {},
   "outputs": [
    {
     "data": {
      "text/plain": [
       "'Donald Trump has the unnerving ability to ability to create his own reality and convince millions of Americans that what he says it is true. The problem with the president lying is that he then believes his own lies. A new poll shows how that can get the country into deep trouble.\\n\\nThe new ABC News/Washington Post poll came out after the president’s physician gave him a physical and mental exam. The doctor gave Trump a clean bill of health, added an inch to his height, and claimed he was fit to serve for seven more years.\\n\\nThis poll was able to capture Americans’ opinions after a new book came out indicating that people around Trump questioned his emotional stability and ability to hold office. In addition, the new poll gave the respondents the time to hear Trump tell the public that he was a “very stable genius” before they were interviewed. He said:\\n\\n‘Actually, throughout my life, my two greatest assets have been mental stability and being, like, really smart.’\\n\\nThe ABC/Washington Post poll discovered that 21 percent of the people it interviewed believed that the president was a genius. That left a full 73 percent who saw through that lie.\\n\\nThen, there was the question of Trump’s mental stability. The poll found that there was a nearly even divide throughout the nation. When asked if the president was stable, 47 percent of those interviewed said he was not, but 48 percent believed he is stable.\\n\\nThe ABC News/Washington Post poll was taken from January 15 through 18, 2018. The random sample consisted of 1,005 adults interviewed by landline and cell phone in both English and Spanish. The margin of error was +/- 3.5 percentage points.\\n\\nFeatured Image via Getty Images/Drew Angerer'"
      ]
     },
     "execution_count": 151,
     "metadata": {},
     "output_type": "execute_result"
    }
   ],
   "source": [
    "data[\"content\"][4]"
   ]
  },
  {
   "cell_type": "markdown",
   "id": "5a3421d7",
   "metadata": {},
   "source": [
    "Since we are working on a subset of the full dataset, there is no need to include the old index/ID.\n",
    "Furthermore, since pandas adds an index column, we do not have a need for the already existing (possibly error prone) local index (Unnamed: 0).\n",
    "\n",
    "Metadata regarding scraping, time of updates etc. do not serve a significant impact on the processing we wish to perform."
   ]
  },
  {
   "cell_type": "code",
   "execution_count": 144,
   "id": "8313171a",
   "metadata": {},
   "outputs": [
    {
     "name": "stderr",
     "output_type": "stream",
     "text": [
      "C:\\Users\\Computer\\AppData\\Local\\Temp\\ipykernel_26636\\2449131707.py:22: FutureWarning: In a future version of pandas all arguments of DataFrame.drop except for the argument 'labels' will be keyword-only\n",
      "  data.drop(cols_to_delete, 1, inplace=True)\n",
      "C:\\Users\\Computer\\AppData\\Local\\Programs\\Python\\Python310\\lib\\site-packages\\pandas\\core\\frame.py:4906: SettingWithCopyWarning: \n",
      "A value is trying to be set on a copy of a slice from a DataFrame\n",
      "\n",
      "See the caveats in the documentation: https://pandas.pydata.org/pandas-docs/stable/user_guide/indexing.html#returning-a-view-versus-a-copy\n",
      "  return super().drop(\n"
     ]
    },
    {
     "data": {
      "text/html": [
       "<div>\n",
       "<style scoped>\n",
       "    .dataframe tbody tr th:only-of-type {\n",
       "        vertical-align: middle;\n",
       "    }\n",
       "\n",
       "    .dataframe tbody tr th {\n",
       "        vertical-align: top;\n",
       "    }\n",
       "\n",
       "    .dataframe thead th {\n",
       "        text-align: right;\n",
       "    }\n",
       "</style>\n",
       "<table border=\"1\" class=\"dataframe\">\n",
       "  <thead>\n",
       "    <tr style=\"text-align: right;\">\n",
       "      <th></th>\n",
       "      <th>domain</th>\n",
       "      <th>type</th>\n",
       "      <th>url</th>\n",
       "      <th>content</th>\n",
       "      <th>title</th>\n",
       "      <th>authors</th>\n",
       "      <th>meta_keywords</th>\n",
       "      <th>meta_description</th>\n",
       "    </tr>\n",
       "  </thead>\n",
       "  <tbody>\n",
       "    <tr>\n",
       "      <th>0</th>\n",
       "      <td>awm.com</td>\n",
       "      <td>unreliable</td>\n",
       "      <td>http://awm.com/church-congregation-brings-gift...</td>\n",
       "      <td>sometimes the power of christmas will make you...</td>\n",
       "      <td>church congregation brings gift to waitresses ...</td>\n",
       "      <td>Ruth Harris</td>\n",
       "      <td>['']</td>\n",
       "      <td>NaN</td>\n",
       "    </tr>\n",
       "    <tr>\n",
       "      <th>1</th>\n",
       "      <td>beforeitsnews.com</td>\n",
       "      <td>fake</td>\n",
       "      <td>http://beforeitsnews.com/awakening-start-here/...</td>\n",
       "      <td>awakening of &lt;number&gt; strands of dna reconnect...</td>\n",
       "      <td>awakening of &lt;number&gt; strands of dna reconnect...</td>\n",
       "      <td>Zurich Times</td>\n",
       "      <td>['']</td>\n",
       "      <td>NaN</td>\n",
       "    </tr>\n",
       "    <tr>\n",
       "      <th>2</th>\n",
       "      <td>cnnnext.com</td>\n",
       "      <td>unreliable</td>\n",
       "      <td>http://www.cnnnext.com/video/18526/never-hike-...</td>\n",
       "      <td>never hike alone a friday the th fan film usa ...</td>\n",
       "      <td>never hike alone a friday the th fan film full...</td>\n",
       "      <td>NaN</td>\n",
       "      <td>['']</td>\n",
       "      <td>Never Hike Alone: A Friday the 13th Fan Film  ...</td>\n",
       "    </tr>\n",
       "    <tr>\n",
       "      <th>3</th>\n",
       "      <td>awm.com</td>\n",
       "      <td>unreliable</td>\n",
       "      <td>http://awm.com/elusive-alien-of-the-sea-caught...</td>\n",
       "      <td>when a rare shark was caught scientists were l...</td>\n",
       "      <td>elusive alien of the sea caught by scientist f...</td>\n",
       "      <td>Alexander Smith</td>\n",
       "      <td>['']</td>\n",
       "      <td>NaN</td>\n",
       "    </tr>\n",
       "    <tr>\n",
       "      <th>4</th>\n",
       "      <td>bipartisanreport.com</td>\n",
       "      <td>clickbait</td>\n",
       "      <td>http://bipartisanreport.com/2018/01/21/trumps-...</td>\n",
       "      <td>donald trump has the unnerving ability to abil...</td>\n",
       "      <td>trump s genius poll is complete the results ha...</td>\n",
       "      <td>Gloria Christie</td>\n",
       "      <td>['']</td>\n",
       "      <td>NaN</td>\n",
       "    </tr>\n",
       "    <tr>\n",
       "      <th>5</th>\n",
       "      <td>blackagendareport.com</td>\n",
       "      <td>unreliable</td>\n",
       "      <td>https://blackagendareport.com/articlelist/Medi...</td>\n",
       "      <td>republicans and democrats alike are willing to...</td>\n",
       "      <td>black agenda report</td>\n",
       "      <td>Margaret Kimberley, Bar Editor, Senior Columni...</td>\n",
       "      <td>['']</td>\n",
       "      <td>NaN</td>\n",
       "    </tr>\n",
       "    <tr>\n",
       "      <th>6</th>\n",
       "      <td>awarenessact.com</td>\n",
       "      <td>conspiracy</td>\n",
       "      <td>http://awarenessact.com/tag/waking-up-in-the-m...</td>\n",
       "      <td>could you imagine waking up in the morgue i fo...</td>\n",
       "      <td>waking up in the morgue awareness act</td>\n",
       "      <td>Gerald Sinclair</td>\n",
       "      <td>['']</td>\n",
       "      <td>NaN</td>\n",
       "    </tr>\n",
       "    <tr>\n",
       "      <th>7</th>\n",
       "      <td>beforeitsnews.com</td>\n",
       "      <td>fake</td>\n",
       "      <td>http://beforeitsnews.com/home/featuredlist/v2_...</td>\n",
       "      <td>citizen journalist by n morgan q has released ...</td>\n",
       "      <td>citizen journalist</td>\n",
       "      <td>NaN</td>\n",
       "      <td>['']</td>\n",
       "      <td>NaN</td>\n",
       "    </tr>\n",
       "    <tr>\n",
       "      <th>8</th>\n",
       "      <td>beforeitsnews.com</td>\n",
       "      <td>fake</td>\n",
       "      <td>http://beforeitsnews.com/economy/2018/01/usa-d...</td>\n",
       "      <td>usa dollar tanks on mnuchin statement that he ...</td>\n",
       "      <td>usa dollar tanks on mnuchin statement that he ...</td>\n",
       "      <td>NaN</td>\n",
       "      <td>['']</td>\n",
       "      <td>NaN</td>\n",
       "    </tr>\n",
       "    <tr>\n",
       "      <th>9</th>\n",
       "      <td>canadafreepress.com</td>\n",
       "      <td>conspiracy</td>\n",
       "      <td>http://canadafreepress.com/article/its-not-rea...</td>\n",
       "      <td>subscribe to canada free press for free neithe...</td>\n",
       "      <td>it s not really president trump who needs his ...</td>\n",
       "      <td>Judi Mcleod, Because Without America, There Is...</td>\n",
       "      <td>['']</td>\n",
       "      <td>NaN</td>\n",
       "    </tr>\n",
       "  </tbody>\n",
       "</table>\n",
       "</div>"
      ],
      "text/plain": [
       "                  domain        type  \\\n",
       "0                awm.com  unreliable   \n",
       "1      beforeitsnews.com        fake   \n",
       "2            cnnnext.com  unreliable   \n",
       "3                awm.com  unreliable   \n",
       "4   bipartisanreport.com   clickbait   \n",
       "5  blackagendareport.com  unreliable   \n",
       "6       awarenessact.com  conspiracy   \n",
       "7      beforeitsnews.com        fake   \n",
       "8      beforeitsnews.com        fake   \n",
       "9    canadafreepress.com  conspiracy   \n",
       "\n",
       "                                                 url  \\\n",
       "0  http://awm.com/church-congregation-brings-gift...   \n",
       "1  http://beforeitsnews.com/awakening-start-here/...   \n",
       "2  http://www.cnnnext.com/video/18526/never-hike-...   \n",
       "3  http://awm.com/elusive-alien-of-the-sea-caught...   \n",
       "4  http://bipartisanreport.com/2018/01/21/trumps-...   \n",
       "5  https://blackagendareport.com/articlelist/Medi...   \n",
       "6  http://awarenessact.com/tag/waking-up-in-the-m...   \n",
       "7  http://beforeitsnews.com/home/featuredlist/v2_...   \n",
       "8  http://beforeitsnews.com/economy/2018/01/usa-d...   \n",
       "9  http://canadafreepress.com/article/its-not-rea...   \n",
       "\n",
       "                                             content  \\\n",
       "0  sometimes the power of christmas will make you...   \n",
       "1  awakening of <number> strands of dna reconnect...   \n",
       "2  never hike alone a friday the th fan film usa ...   \n",
       "3  when a rare shark was caught scientists were l...   \n",
       "4  donald trump has the unnerving ability to abil...   \n",
       "5  republicans and democrats alike are willing to...   \n",
       "6  could you imagine waking up in the morgue i fo...   \n",
       "7  citizen journalist by n morgan q has released ...   \n",
       "8  usa dollar tanks on mnuchin statement that he ...   \n",
       "9  subscribe to canada free press for free neithe...   \n",
       "\n",
       "                                               title  \\\n",
       "0  church congregation brings gift to waitresses ...   \n",
       "1  awakening of <number> strands of dna reconnect...   \n",
       "2  never hike alone a friday the th fan film full...   \n",
       "3  elusive alien of the sea caught by scientist f...   \n",
       "4  trump s genius poll is complete the results ha...   \n",
       "5                                black agenda report   \n",
       "6              waking up in the morgue awareness act   \n",
       "7                                 citizen journalist   \n",
       "8  usa dollar tanks on mnuchin statement that he ...   \n",
       "9  it s not really president trump who needs his ...   \n",
       "\n",
       "                                             authors meta_keywords  \\\n",
       "0                                        Ruth Harris          ['']   \n",
       "1                                       Zurich Times          ['']   \n",
       "2                                                NaN          ['']   \n",
       "3                                    Alexander Smith          ['']   \n",
       "4                                    Gloria Christie          ['']   \n",
       "5  Margaret Kimberley, Bar Editor, Senior Columni...          ['']   \n",
       "6                                    Gerald Sinclair          ['']   \n",
       "7                                                NaN          ['']   \n",
       "8                                                NaN          ['']   \n",
       "9  Judi Mcleod, Because Without America, There Is...          ['']   \n",
       "\n",
       "                                    meta_description  \n",
       "0                                                NaN  \n",
       "1                                                NaN  \n",
       "2  Never Hike Alone: A Friday the 13th Fan Film  ...  \n",
       "3                                                NaN  \n",
       "4                                                NaN  \n",
       "5                                                NaN  \n",
       "6                                                NaN  \n",
       "7                                                NaN  \n",
       "8                                                NaN  \n",
       "9                                                NaN  "
      ]
     },
     "execution_count": 144,
     "metadata": {},
     "output_type": "execute_result"
    }
   ],
   "source": [
    "data = clean_data(data)\n",
    "data"
   ]
  },
  {
   "cell_type": "code",
   "execution_count": 138,
   "id": "6d2e94c7",
   "metadata": {},
   "outputs": [
    {
     "name": "stdout",
     "output_type": "stream",
     "text": [
      "trump s genius poll is complete the results have americans bursting with laughter\n"
     ]
    }
   ],
   "source": [
    "print(data[\"title\"][4])"
   ]
  },
  {
   "cell_type": "code",
   "execution_count": 139,
   "id": "040c1da7",
   "metadata": {},
   "outputs": [
    {
     "data": {
      "text/plain": [
       "'donald trump has the unnerving ability to ability to create his own reality and convince millions of americans that what he says it is true the problem with the president lying is that he then believes his own lies a new poll shows how that can get the country into deep trouble the new abc news washington post poll came out after the president s physician gave him a physical and mental exam the doctor gave trump a clean bill of health added an inch to his height and claimed he was fit to serve for seven more years this poll was able to capture americans opinions after a new book came out indicating that people around trump questioned his emotional stability and ability to hold office in addition the new poll gave the respondents the time to hear trump tell the public that he was a very stable genius before they were interviewed he said actually throughout my life my two greatest assets have been mental stability and being like really smart the abc washington post poll discovered that <number> percent of the people it interviewed believed that the president was a genius that left a full <number> percent who saw through that lie then there was the question of trump s mental stability the poll found that there was a nearly even divide throughout the nation when asked if the president was stable <number> percent of those interviewed said he was not but <number> percent believed he is stable the abc news washington post poll was taken from <date> through <number> <number> the random sample consisted of <number> adults interviewed by landline and cell phone in both english and spanish the margin of error was  <number> <number> percentage points featured image via getty images drew angerer'"
      ]
     },
     "execution_count": 139,
     "metadata": {},
     "output_type": "execute_result"
    }
   ],
   "source": [
    "data[\"content\"][4]"
   ]
  },
  {
   "cell_type": "code",
   "execution_count": 4,
   "id": "f414e99e",
   "metadata": {},
   "outputs": [],
   "source": [
    "# Task 3\n",
    "# things to explore\n",
    "# 1: clickbait type vs titles\n",
    "# 2: word frequency n-gram vs article type\n",
    "# 3: authors changing type"
   ]
  },
  {
   "cell_type": "code",
   "execution_count": null,
   "id": "a2693e4a",
   "metadata": {},
   "outputs": [],
   "source": []
  },
  {
   "cell_type": "code",
   "execution_count": 5,
   "id": "aac40979",
   "metadata": {},
   "outputs": [
    {
     "data": {
      "text/plain": [
       "'AOPRSTUVWZ'"
      ]
     },
     "execution_count": 5,
     "metadata": {},
     "output_type": "execute_result"
    }
   ],
   "source": [
    "# Task 4\n",
    "group_nr = 14\n",
    "group_substring_raw = \"ABCDEFGHIJKLMNOPRSTUVWZABCDEFGHIJKLMNOPRSTUVWZ\"[group_nr%23:group_nr%23+10]\n",
    "group_substring = \"\"\n",
    "\n",
    "for letter in np.sort(list(group_substring_raw)):\n",
    "    group_substring += letter\n",
    "    \n",
    "group_substring"
   ]
  },
  {
   "cell_type": "code",
   "execution_count": 6,
   "id": "21d3524f",
   "metadata": {},
   "outputs": [],
   "source": [
    "import requests\n",
    "from bs4 import BeautifulSoup\n",
    "\n",
    "response = requests.get('https://en.wikinews.org/wiki/Category:Politics_and_conflicts')\n",
    "contents = response.text\n",
    "\n",
    "soup = BeautifulSoup(contents, 'html.parser')"
   ]
  },
  {
   "cell_type": "code",
   "execution_count": 7,
   "id": "88ce6000",
   "metadata": {},
   "outputs": [],
   "source": [
    "cont = soup.find_all('a', class_=\"external text\")\n",
    "links = []\n",
    "for line in cont:\n",
    "    if np.isin((line.attrs[\"href\"][-1]), list(group_substring)):\n",
    "        links.append(line.attrs[\"href\"])\n",
    "\n",
    "links = [links[0]] # Go through each href and scrape untill next h3 letter is hit. TODO\n",
    "for link in links:\n",
    "    response = requests.get(link)\n",
    "    contents = response.text\n",
    "\n",
    "    soup = BeautifulSoup(contents, 'html.parser')"
   ]
  },
  {
   "cell_type": "code",
   "execution_count": 22,
   "id": "e531d73a",
   "metadata": {},
   "outputs": [],
   "source": [
    "cont = soup.find_all(\"div\", id=\"mw-pages\")"
   ]
  },
  {
   "cell_type": "code",
   "execution_count": null,
   "id": "4af27b04",
   "metadata": {},
   "outputs": [],
   "source": []
  },
  {
   "cell_type": "code",
   "execution_count": null,
   "id": "eef38e2e",
   "metadata": {},
   "outputs": [],
   "source": []
  }
 ],
 "metadata": {
  "kernelspec": {
   "display_name": "Python 3",
   "language": "python",
   "name": "python3"
  },
  "language_info": {
   "codemirror_mode": {
    "name": "ipython",
    "version": 3
   },
   "file_extension": ".py",
   "mimetype": "text/x-python",
   "name": "python",
   "nbconvert_exporter": "python",
   "pygments_lexer": "ipython3",
   "version": "3.10.1"
  }
 },
 "nbformat": 4,
 "nbformat_minor": 5
}
